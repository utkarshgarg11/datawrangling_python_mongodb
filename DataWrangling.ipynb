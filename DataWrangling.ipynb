{
 "cells": [
  {
   "cell_type": "markdown",
   "metadata": {},
   "source": [
    "OPENSTREETMAP DATA CASE STUDY"
   ]
  },
  {
   "cell_type": "markdown",
   "metadata": {},
   "source": [
    "I have used DETROIT/MICHIGAN OSM XML data for the purpose of this project. \n",
    "The below code is to convert the OSM XML file to JSON file so that it can be imported into a MongoDB database.\n",
    "The procedure to import the JSON file into the MongoDB database was carried out in the Windows command prompt through the command:\n",
    "$ mongoimport --db openstreetmap --collection detroit --file detroit_michigan.osm.json"
   ]
  },
  {
   "cell_type": "code",
   "execution_count": 1,
   "metadata": {
    "collapsed": true
   },
   "outputs": [],
   "source": [
    "import xml.etree.cElementTree as ET\n",
    "import pprint\n",
    "import re\n",
    "import codecs\n",
    "import json\n",
    "\n",
    "lower = re.compile(r'^([a-z]|_)*$')\n",
    "lower_colon = re.compile(r'^([a-z]|_)*:([a-z]|_)*$')\n",
    "problemchars = re.compile(r'[=\\+/&<>;\\'\"\\?%#$@\\,\\. \\t\\r\\n]') # To eliminate problematic characters from our data\n",
    "\n",
    "# Standard keys for 'way' and 'node' tags\n",
    "CREATED = [ \"version\", \"changeset\", \"timestamp\", \"user\", \"uid\"]\n",
    "\n",
    "# The mapping dictionary is used to convert address streets' shorthand notations to full names for uniformity.\n",
    "mapping = { \"St\": \"Street\",\n",
    "            \"St.\": \"Street\",\n",
    "            \"Rd.\": \"Road\",\n",
    "            \"Rd\": \"Road\",\n",
    "            \"Ave\": \"Avenue\",\n",
    "            \"Ct\": \"Court\",\n",
    "            \"Ct.\": \"Court\",\n",
    "            \"Pl\": \"Place\",\n",
    "            \"Pl.\": \"Place\",\n",
    "            \"Dr\": \"Drive\",\n",
    "            \"Dr.\": \"Drive\",\n",
    "            \"Sq.\": \"Square\",\n",
    "            \"Sq\": \"Square\",\n",
    "            \"Tr\": \"Trail\",\n",
    "            \"Tr.\": \"Trail\",\n",
    "            \"Pw\" : \"Parkway\",\n",
    "            \"Pw.\": \"Parkway\",\n",
    "            \"Co\" : \"Commons\",\n",
    "            \"Co.\": \"Commons\",\n",
    "            }\n",
    "\n",
    "\n",
    "def shape_element(element):\n",
    "    # Defing the initial structure of the element, although not required.'node' variable is for both 'node' and 'way' here\n",
    "    node = {'id':'','visible':'','type':'', 'pos':[],\n",
    "            'created':{'changeset':'','user':'','version':'','uid':'','timestamp':''} }\n",
    "    \n",
    "    if element.tag == \"node\" or element.tag == \"way\" :\n",
    "        \n",
    "        if element.tag == 'node':\n",
    "            node['pos'] = [element.attrib['lat'],element.attrib['lon']] # Set 'pos' key as list [latitude, longitude]\n",
    "            \n",
    "        if 'visible' in element.attrib:\n",
    "            node['visible'] = element.attrib['visible']\n",
    "            \n",
    "        node['type'] = element.tag\n",
    "        node['id'] = element.attrib['id']\n",
    "        \n",
    "        # Adding key/value pairs from main attributes\n",
    "        for item in CREATED:\n",
    "            node['created'][item] = element.attrib[item]\n",
    "            \n",
    "        # Way tags also contain node_refs\n",
    "        if element.tag == 'way':\n",
    "            node['node_refs'] = []\n",
    "            \n",
    "        # Iterating inside the main element\n",
    "        for item in element.iter():\n",
    "            \n",
    "            # For 'tag' elements only\n",
    "            if item.tag == 'tag':\n",
    "                k = item.attrib['k']\n",
    "                split_k = k.split(':') # Splitting from ':' to check if 'addr' or not\n",
    "                \n",
    "                # For checking for address street for problemchars\n",
    "                if not problemchars.search(k) and len(split_k) <= 2:\n",
    "                    \n",
    "                    if split_k[0] == 'addr':\n",
    "                        if 'address' not in node:\n",
    "                            node['address'] = {}   # Create address subkey if it doesn't exist\n",
    "                        \n",
    "                        if k == 'addr:street':\n",
    "                            st = item.attrib['v'].split()[-1]   # Shorthand notation for street type.\n",
    "                            \n",
    "                            # Replace the shorthand notation with the full type.\n",
    "                            if st in mapping:\n",
    "                                node['address']['street'] = item.attrib['v'].replace(st,mapping[st])\n",
    "                                # Separate attribute for street type for simpilfying querying based on type of street\n",
    "                                node['address']['street_type'] = mapping[st]\n",
    "                        else:   \n",
    "                            # Making 'address.state' uniform for 'Michigan' state\n",
    "                            if split_k[1] == 'state' and (item.attrib['v'] in ['MI','mi','Mchigan','MICHIGAN']):\n",
    "                                node['address']['state'] = 'Michigan'\n",
    "                            else:\n",
    "                                node['address'][split_k[1]] = item.attrib['v']\n",
    "                    else:\n",
    "                        node[k] = item.attrib['v']\n",
    "                        \n",
    "            # For 'nd' elements only. Occurs in 'way' elements only.\n",
    "            elif item.tag == 'nd':\n",
    "                node['node_refs'].append(item.attrib['ref'])\n",
    "                \n",
    "        # Cleaning the 'lanes' attribute, if it exists\n",
    "        if 'lanes' in node:\n",
    "            node['lanes'] = str(node['lanes']).replace(' ','')\n",
    "            if ';' in node['lanes']:\n",
    "                node['lanes'] = node['lanes'].split(';')\n",
    "        return node\n",
    "    else:\n",
    "        return None\n",
    "\n",
    "def get_element(osm_file, tags=('node', 'way')):\n",
    "    \n",
    "    context = ET.iterparse(osm_file, events=('start', 'end'))\n",
    "    _, root = next(context)\n",
    "    \n",
    "    for event, elem in context:\n",
    "        if event == 'end' and elem.tag in tags:\n",
    "            yield elem\n",
    "            root.clear()\n",
    "\n",
    "def process_map(file_in, pretty = False):\n",
    "    \n",
    "    file_out = \"{0}.json\".format(file_in)\n",
    "    \n",
    "    with codecs.open(file_out, \"w\") as fo:\n",
    "        \n",
    "        for i, elem in enumerate(get_element(file_in)):\n",
    "            el = shape_element(elem)\n",
    "            if el:\n",
    "                if pretty:\n",
    "                    fo.write(json.dumps(el, indent=2)+\"\\n\")\n",
    "                else:\n",
    "                    fo.write(json.dumps(el) + \"\\n\")\n",
    "            elem.clear()\n",
    "\n",
    "# Calling the function to carry out the parsing            \n",
    "process_map('D:\\DANDProjects\\detroit_michigan.osm')"
   ]
  },
  {
   "cell_type": "markdown",
   "metadata": {},
   "source": [
    "--------------------------------------------------------------------------------------------------------------------------------\n",
    "From here we begin querying and checking the data for correctness and completeness."
   ]
  },
  {
   "cell_type": "markdown",
   "metadata": {},
   "source": [
    "Our database name is 'openstreetmap' and collection name is 'detroit'.\n",
    "The database is assigned to the variable 'db' and the collection to the variable 'collection'."
   ]
  },
  {
   "cell_type": "code",
   "execution_count": 18,
   "metadata": {
    "collapsed": true
   },
   "outputs": [],
   "source": [
    "from pymongo import MongoClient\n",
    "client = MongoClient()\n",
    "db = client.openstreetmap\n",
    "collection = db.detroit_2"
   ]
  },
  {
   "cell_type": "markdown",
   "metadata": {},
   "source": [
    "Size of the Collection (in bytes)"
   ]
  },
  {
   "cell_type": "code",
   "execution_count": 3,
   "metadata": {
    "collapsed": false
   },
   "outputs": [
    {
     "name": "stdout",
     "output_type": "stream",
     "text": [
      "1077358667.0\n"
     ]
    }
   ],
   "source": [
    "print db.command('collstats','detroit')['size']"
   ]
  },
  {
   "cell_type": "code",
   "execution_count": 17,
   "metadata": {
    "collapsed": false
   },
   "outputs": [],
   "source": [
    "import pprint\n",
    "pp = pprint.PrettyPrinter(indent = 4)"
   ]
  },
  {
   "cell_type": "markdown",
   "metadata": {},
   "source": [
    "Total number of documents"
   ]
  },
  {
   "cell_type": "code",
   "execution_count": 5,
   "metadata": {
    "collapsed": false
   },
   "outputs": [
    {
     "name": "stdout",
     "output_type": "stream",
     "text": [
      "4226232\n"
     ]
    }
   ],
   "source": [
    "print collection.count()"
   ]
  },
  {
   "cell_type": "markdown",
   "metadata": {},
   "source": [
    "Total number of nodes:"
   ]
  },
  {
   "cell_type": "code",
   "execution_count": 6,
   "metadata": {
    "collapsed": false
   },
   "outputs": [
    {
     "name": "stdout",
     "output_type": "stream",
     "text": [
      "3838133\n"
     ]
    }
   ],
   "source": [
    "print collection.find({'type':'node'}).count()"
   ]
  },
  {
   "cell_type": "markdown",
   "metadata": {},
   "source": [
    "Total number of ways:"
   ]
  },
  {
   "cell_type": "code",
   "execution_count": 4,
   "metadata": {
    "collapsed": false
   },
   "outputs": [
    {
     "name": "stdout",
     "output_type": "stream",
     "text": [
      "387910\n"
     ]
    }
   ],
   "source": [
    "print collection.find({'type':'way'}).count()"
   ]
  },
  {
   "cell_type": "markdown",
   "metadata": {},
   "source": [
    "Number of tags which are neither nodes, nor ways:"
   ]
  },
  {
   "cell_type": "code",
   "execution_count": 42,
   "metadata": {
    "collapsed": false
   },
   "outputs": [],
   "source": [
    "not_way_or_node = collection.find({'type':{'$nin':['node','way']}})"
   ]
  },
  {
   "cell_type": "code",
   "execution_count": 46,
   "metadata": {
    "collapsed": false
   },
   "outputs": [
    {
     "name": "stdout",
     "output_type": "stream",
     "text": [
      "189\n"
     ]
    }
   ],
   "source": [
    "print not_way_or_node.count()"
   ]
  },
  {
   "cell_type": "markdown",
   "metadata": {},
   "source": [
    "Number of nodes which are visible and which are not:"
   ]
  },
  {
   "cell_type": "code",
   "execution_count": 10,
   "metadata": {
    "collapsed": false
   },
   "outputs": [
    {
     "name": "stdout",
     "output_type": "stream",
     "text": [
      "0\n"
     ]
    }
   ],
   "source": [
    "print collection.find({'visible':'false'}).count()"
   ]
  },
  {
   "cell_type": "code",
   "execution_count": 14,
   "metadata": {
    "collapsed": false
   },
   "outputs": [
    {
     "name": "stdout",
     "output_type": "stream",
     "text": [
      "0\n"
     ]
    }
   ],
   "source": [
    "print collection.find({'visible':'true'}).count()"
   ]
  },
  {
   "cell_type": "markdown",
   "metadata": {},
   "source": [
    "Since we cannot see any document with 'visible' key set to 'true' or 'false', we remove the field from our documents. This could have been avoided by modifying the code for parsing."
   ]
  },
  {
   "cell_type": "code",
   "execution_count": 24,
   "metadata": {
    "collapsed": false
   },
   "outputs": [
    {
     "name": "stdout",
     "output_type": "stream",
     "text": [
      "{   u'_id': ObjectId('5809a488251362cbcb23c09f'),\n",
      "    u'created': {   u'changeset': u'41510088',\n",
      "                    u'timestamp': u'2016-08-17T11:15:01Z',\n",
      "                    u'uid': u'1679',\n",
      "                    u'user': u'andrewpmk',\n",
      "                    u'version': u'4'},\n",
      "    u'highway': u'traffic_signals',\n",
      "    u'id': u'11753030',\n",
      "    u'pos': [u'42.2547374', u'-83.0172501'],\n",
      "    u'type': u'node'}\n"
     ]
    }
   ],
   "source": [
    "remove_visible = collection.update_many({'visible':''}, { '$unset' : {'visible': 1}})\n",
    "pp.pprint(collection.find_one())"
   ]
  },
  {
   "cell_type": "markdown",
   "metadata": {},
   "source": [
    "Unwanted types are present due to second level tag's 'k' attribute:"
   ]
  },
  {
   "cell_type": "code",
   "execution_count": 48,
   "metadata": {
    "collapsed": false
   },
   "outputs": [
    {
     "name": "stdout",
     "output_type": "stream",
     "text": [
      "[u'node', u'public', u'broad_leaved', u'conifer', u'audio', u'way', u'multipolygon', u'route', u'trap', u'boundary', u'gas', u'oil', u'preserved', u'civil']\n"
     ]
    }
   ],
   "source": [
    "print collection.distinct('type')"
   ]
  },
  {
   "cell_type": "markdown",
   "metadata": {},
   "source": [
    "Removing the documents wuth type other than 'node' or 'way':"
   ]
  },
  {
   "cell_type": "code",
   "execution_count": 7,
   "metadata": {
    "collapsed": false
   },
   "outputs": [
    {
     "data": {
      "text/plain": [
       "<pymongo.results.DeleteResult at 0x4248fc0>"
      ]
     },
     "execution_count": 7,
     "metadata": {},
     "output_type": "execute_result"
    }
   ],
   "source": [
    "collection.delete_many({'type':{'$nin':['node','way']}})"
   ]
  },
  {
   "cell_type": "markdown",
   "metadata": {},
   "source": [
    "New document count after deleting the unrequired documents:"
   ]
  },
  {
   "cell_type": "code",
   "execution_count": 8,
   "metadata": {
    "collapsed": false
   },
   "outputs": [
    {
     "name": "stdout",
     "output_type": "stream",
     "text": [
      "4226043\n"
     ]
    }
   ],
   "source": [
    "new_length = collection.find().count()\n",
    "print new_length"
   ]
  },
  {
   "cell_type": "markdown",
   "metadata": {},
   "source": [
    "Sample document of the type 'way':"
   ]
  },
  {
   "cell_type": "code",
   "execution_count": 34,
   "metadata": {
    "collapsed": false
   },
   "outputs": [
    {
     "name": "stdout",
     "output_type": "stream",
     "text": [
      "{   u'_id': ObjectId('58061988ed3120e54385c2b9'),\n",
      "    u'created': {   u'changeset': u'25545638',\n",
      "                    u'timestamp': u'2014-09-19T17:22:21Z',\n",
      "                    u'uid': u'1679',\n",
      "                    u'user': u'andrewpmk',\n",
      "                    u'version': u'7'},\n",
      "    u'highway': u'tertiary',\n",
      "    u'id': u'2627409',\n",
      "    u'lanes': u'2',\n",
      "    u'name': u'Mount Royal',\n",
      "    u'node_refs': [   u'11753030',\n",
      "                      u'11753034',\n",
      "                      u'11753047',\n",
      "                      u'1258712063',\n",
      "                      u'11753061',\n",
      "                      u'11753066'],\n",
      "    u'type': u'way'}\n"
     ]
    }
   ],
   "source": [
    "pp.pprint(collection.find_one({'type':'way'}))"
   ]
  },
  {
   "cell_type": "markdown",
   "metadata": {},
   "source": [
    "This shows the distinct number of lanes present in 'way' tags.\n",
    "As we can see it contains instances with more than one integers separated with semicolons.\n",
    "We can see it as a shortcoming of the data as we could have converted these instances into lists with the probable lane numbers."
   ]
  },
  {
   "cell_type": "code",
   "execution_count": null,
   "metadata": {
    "collapsed": false
   },
   "outputs": [],
   "source": []
  },
  {
   "cell_type": "markdown",
   "metadata": {},
   "source": [
    "Different types of highways the 'way' tags contain:"
   ]
  },
  {
   "cell_type": "code",
   "execution_count": 35,
   "metadata": {
    "collapsed": false
   },
   "outputs": [
    {
     "name": "stdout",
     "output_type": "stream",
     "text": [
      "[u'tertiary', u'residential', u'primary', u'motorway_link', u'motorway', u'unclassified', u'primary_link', u'secondary', u'construction', u'service', u'secondary_link', u'cycleway', u'tertiary_link', u'trunk', u'footway', u'trunk_link', u'track', u'path', u'razed', u'bridleway', u'raceway', u'pedestrian', u'living_street', u'steps', u'proposed', u'abandoned', u'rest_area', u'services', u'road', u'closed:cycleway']\n"
     ]
    }
   ],
   "source": [
    "print collection.distinct('highway', {'type':'way'})"
   ]
  },
  {
   "cell_type": "markdown",
   "metadata": {},
   "source": [
    "Highway counts grouped by their types:"
   ]
  },
  {
   "cell_type": "code",
   "execution_count": 13,
   "metadata": {
    "collapsed": false
   },
   "outputs": [],
   "source": [
    "highway_count = collection.aggregate([{'$match':{'type':'way','highway':{'$exists':1}}},\n",
    "                                      {'$group':{'_id':'$highway','count':{'$sum':1}}},{'$sort':{'count':-1}}])"
   ]
  },
  {
   "cell_type": "code",
   "execution_count": 14,
   "metadata": {
    "collapsed": false
   },
   "outputs": [
    {
     "name": "stdout",
     "output_type": "stream",
     "text": [
      "{u'count': 106509, u'_id': u'residential'}\n",
      "{u'count': 41620, u'_id': u'service'}\n",
      "{u'count': 23532, u'_id': u'footway'}\n",
      "{u'count': 9785, u'_id': u'secondary'}\n",
      "{u'count': 8472, u'_id': u'tertiary'}\n",
      "{u'count': 3832, u'_id': u'primary'}\n",
      "{u'count': 3760, u'_id': u'unclassified'}\n",
      "{u'count': 3469, u'_id': u'path'}\n",
      "{u'count': 2931, u'_id': u'motorway_link'}\n",
      "{u'count': 1855, u'_id': u'motorway'}\n",
      "{u'count': 1744, u'_id': u'secondary_link'}\n",
      "{u'count': 1605, u'_id': u'primary_link'}\n",
      "{u'count': 1195, u'_id': u'track'}\n",
      "{u'count': 970, u'_id': u'cycleway'}\n",
      "{u'count': 467, u'_id': u'trunk'}\n",
      "{u'count': 456, u'_id': u'tertiary_link'}\n",
      "{u'count': 416, u'_id': u'pedestrian'}\n",
      "{u'count': 214, u'_id': u'trunk_link'}\n",
      "{u'count': 214, u'_id': u'steps'}\n",
      "{u'count': 180, u'_id': u'bridleway'}\n",
      "{u'count': 46, u'_id': u'construction'}\n",
      "{u'count': 34, u'_id': u'razed'}\n",
      "{u'count': 31, u'_id': u'raceway'}\n",
      "{u'count': 24, u'_id': u'proposed'}\n",
      "{u'count': 22, u'_id': u'living_street'}\n",
      "{u'count': 19, u'_id': u'rest_area'}\n",
      "{u'count': 9, u'_id': u'road'}\n",
      "{u'count': 7, u'_id': u'services'}\n",
      "{u'count': 3, u'_id': u'closed:cycleway'}\n",
      "{u'count': 2, u'_id': u'abandoned'}\n"
     ]
    }
   ],
   "source": [
    "for item in highway_count:\n",
    "    print item"
   ]
  },
  {
   "cell_type": "markdown",
   "metadata": {},
   "source": [
    "Total node_refs present in way tags with highways:"
   ]
  },
  {
   "cell_type": "code",
   "execution_count": 21,
   "metadata": {
    "collapsed": false
   },
   "outputs": [],
   "source": [
    "total_node_refs_with_highways = collection.aggregate([{'$match':{'type':'way','highway':{'$exists':1}}},\n",
    "                                                    {'$group':{'_id':'Highway_refs','total':{'$sum':{'$size':'$node_refs'}}}}\n",
    "                                                    ])"
   ]
  },
  {
   "cell_type": "code",
   "execution_count": 22,
   "metadata": {
    "collapsed": false
   },
   "outputs": [
    {
     "name": "stdout",
     "output_type": "stream",
     "text": [
      "{u'total': 1791254, u'_id': u'Highway_refs'}\n"
     ]
    }
   ],
   "source": [
    "for item in total_node_refs_with_highways:\n",
    "    print item"
   ]
  },
  {
   "cell_type": "markdown",
   "metadata": {},
   "source": [
    "Total node_refs present in each type of highway:"
   ]
  },
  {
   "cell_type": "code",
   "execution_count": 17,
   "metadata": {
    "collapsed": false
   },
   "outputs": [],
   "source": [
    "node_refs_groupedby_highway = collection.aggregate([{'$match':{'type':'way','highway':{'$exists':1}}},\n",
    "                     {'$unwind':'$node_refs'},\n",
    "                     {'$group':{'_id':'$highway','total_node_refs':{'$sum':1}}},{'$sort':{'total_node_refs':-1}}])"
   ]
  },
  {
   "cell_type": "code",
   "execution_count": 18,
   "metadata": {
    "collapsed": false
   },
   "outputs": [
    {
     "name": "stdout",
     "output_type": "stream",
     "text": [
      "{u'total_node_refs': 938716, u'_id': u'residential'}\n",
      "{u'total_node_refs': 252845, u'_id': u'service'}\n",
      "{u'total_node_refs': 189231, u'_id': u'footway'}\n",
      "{u'total_node_refs': 82202, u'_id': u'tertiary'}\n",
      "{u'total_node_refs': 69225, u'_id': u'path'}\n",
      "{u'total_node_refs': 61058, u'_id': u'secondary'}\n",
      "{u'total_node_refs': 37378, u'_id': u'unclassified'}\n",
      "{u'total_node_refs': 28837, u'_id': u'motorway_link'}\n",
      "{u'total_node_refs': 28560, u'_id': u'cycleway'}\n",
      "{u'total_node_refs': 21271, u'_id': u'motorway'}\n",
      "{u'total_node_refs': 19579, u'_id': u'primary'}\n",
      "{u'total_node_refs': 16317, u'_id': u'track'}\n",
      "{u'total_node_refs': 12621, u'_id': u'primary_link'}\n",
      "{u'total_node_refs': 10474, u'_id': u'secondary_link'}\n",
      "{u'total_node_refs': 8703, u'_id': u'bridleway'}\n",
      "{u'total_node_refs': 4291, u'_id': u'pedestrian'}\n",
      "{u'total_node_refs': 2896, u'_id': u'trunk'}\n",
      "{u'total_node_refs': 2291, u'_id': u'tertiary_link'}\n",
      "{u'total_node_refs': 1872, u'_id': u'trunk_link'}\n",
      "{u'total_node_refs': 634, u'_id': u'raceway'}\n",
      "{u'total_node_refs': 531, u'_id': u'steps'}\n",
      "{u'total_node_refs': 461, u'_id': u'razed'}\n",
      "{u'total_node_refs': 345, u'_id': u'construction'}\n",
      "{u'total_node_refs': 270, u'_id': u'proposed'}\n",
      "{u'total_node_refs': 178, u'_id': u'rest_area'}\n",
      "{u'total_node_refs': 164, u'_id': u'road'}\n",
      "{u'total_node_refs': 162, u'_id': u'living_street'}\n",
      "{u'total_node_refs': 77, u'_id': u'services'}\n",
      "{u'total_node_refs': 61, u'_id': u'closed:cycleway'}\n",
      "{u'total_node_refs': 4, u'_id': u'abandoned'}\n"
     ]
    }
   ],
   "source": [
    "for item in node_refs_groupedby_highway:\n",
    "    print item"
   ]
  },
  {
   "cell_type": "markdown",
   "metadata": {},
   "source": [
    "The Geographical location of Detroit,Michigan to be used for some of the following queries - LATITUDE = 42.331429, LONGITUDE = -83.045753"
   ]
  },
  {
   "cell_type": "markdown",
   "metadata": {},
   "source": [
    "Documents which have no latitude or longitude:"
   ]
  },
  {
   "cell_type": "code",
   "execution_count": 5,
   "metadata": {
    "collapsed": false
   },
   "outputs": [
    {
     "name": "stdout",
     "output_type": "stream",
     "text": [
      "387910\n"
     ]
    }
   ],
   "source": [
    "print collection.find({'pos':[]}).count()"
   ]
  },
  {
   "cell_type": "markdown",
   "metadata": {},
   "source": [
    "Unsetting the field 'pos'(position) from such documents:"
   ]
  },
  {
   "cell_type": "code",
   "execution_count": 6,
   "metadata": {
    "collapsed": false
   },
   "outputs": [
    {
     "data": {
      "text/plain": [
       "<pymongo.results.UpdateResult at 0x3d5bf30>"
      ]
     },
     "execution_count": 6,
     "metadata": {},
     "output_type": "execute_result"
    }
   ],
   "source": [
    "collection.update_many({'pos':[]},{'$unset':{'pos':''}})"
   ]
  },
  {
   "cell_type": "markdown",
   "metadata": {},
   "source": [
    "It is verified that there are no more documents with no latitude and longitude given."
   ]
  },
  {
   "cell_type": "code",
   "execution_count": 7,
   "metadata": {
    "collapsed": false
   },
   "outputs": [
    {
     "name": "stdout",
     "output_type": "stream",
     "text": [
      "0\n"
     ]
    }
   ],
   "source": [
    "print collection.find({'pos':[]}).count()"
   ]
  },
  {
   "cell_type": "markdown",
   "metadata": {},
   "source": [
    "Elements situated NORTH of the standard Detroit latitude:"
   ]
  },
  {
   "cell_type": "code",
   "execution_count": 61,
   "metadata": {
    "collapsed": false
   },
   "outputs": [
    {
     "name": "stdout",
     "output_type": "stream",
     "text": [
      "2700545\n"
     ]
    }
   ],
   "source": [
    "print collection.find({'pos.0':{'$gt':'42.331429'}}).count()"
   ]
  },
  {
   "cell_type": "markdown",
   "metadata": {},
   "source": [
    "Elements situated SOUTH of or ON the standard latitude of Detroit:"
   ]
  },
  {
   "cell_type": "code",
   "execution_count": 65,
   "metadata": {
    "collapsed": false
   },
   "outputs": [
    {
     "name": "stdout",
     "output_type": "stream",
     "text": [
      "1137588\n"
     ]
    }
   ],
   "source": [
    "print collection.find({'pos.0':{'$lte':'42.331429'}}).count()"
   ]
  },
  {
   "cell_type": "markdown",
   "metadata": {},
   "source": [
    "Elements due EAST of standard Detroit longitude: "
   ]
  },
  {
   "cell_type": "code",
   "execution_count": 3,
   "metadata": {
    "collapsed": false
   },
   "outputs": [
    {
     "name": "stdout",
     "output_type": "stream",
     "text": [
      "2974847\n"
     ]
    }
   ],
   "source": [
    "print collection.find({'pos.1':{'$gt':'-83.045753'}}).count()"
   ]
  },
  {
   "cell_type": "markdown",
   "metadata": {},
   "source": [
    "Elements WEST of standard Detroit longitude:"
   ]
  },
  {
   "cell_type": "code",
   "execution_count": 4,
   "metadata": {
    "collapsed": false
   },
   "outputs": [
    {
     "name": "stdout",
     "output_type": "stream",
     "text": [
      "863286\n"
     ]
    }
   ],
   "source": [
    "print collection.find({'pos.1':{'$lte':'-83.045753'}}).count()"
   ]
  },
  {
   "cell_type": "markdown",
   "metadata": {},
   "source": [
    "The elements have been created by these distinct users:"
   ]
  },
  {
   "cell_type": "code",
   "execution_count": 19,
   "metadata": {
    "collapsed": false
   },
   "outputs": [
    {
     "name": "stdout",
     "output_type": "stream",
     "text": [
      "[u'JOSM', u'Merkaartor 0.12', u'r_coastlines', u'YahooApplet 1.0', u'Potlatch 0.8a', u'Potlatch 0.5d', u'Potlatch 0.8', u'Potlatch 0.8b', u'Potlatch 0.9', u'Potlatch 0.9a', u'Potlatch 0.10b', u'Potlatch 0.10', u'xybot', u'Potlatch 0.10e', u'Potlatch 0.10f', u'ailatix', u'Merkaartor 0.13', u'Potlatch alpha', u'Potlatch 0.9b', u'Potlatch 0.9c', u'Potlatch 0.7b', u'OSM Fixer', u'Potlatch 0.7', u'Potlatch 0.8c', u'Potlatch 0.10d', u'polyshp2osm-multipoly']\n"
     ]
    }
   ],
   "source": [
    "print collection.distinct('created_by')"
   ]
  },
  {
   "cell_type": "markdown",
   "metadata": {},
   "source": [
    "Number of documents which have a creator mentioned:"
   ]
  },
  {
   "cell_type": "code",
   "execution_count": 23,
   "metadata": {
    "collapsed": false
   },
   "outputs": [
    {
     "name": "stdout",
     "output_type": "stream",
     "text": [
      "5829\n"
     ]
    }
   ],
   "source": [
    "print collection.find({'created_by':{'$exists':1}}).count()"
   ]
  },
  {
   "cell_type": "markdown",
   "metadata": {},
   "source": [
    "Tags created by each user (Descending order of total tags created). A significantly large percentage of tags did not have any creator mentioned:"
   ]
  },
  {
   "cell_type": "code",
   "execution_count": 23,
   "metadata": {
    "collapsed": false
   },
   "outputs": [
    {
     "name": "stdout",
     "output_type": "stream",
     "text": [
      "{u'count': 4220214, u'_id': None}\n",
      "{u'count': 1799, u'_id': u'r_coastlines'}\n",
      "{u'count': 1678, u'_id': u'JOSM'}\n",
      "{u'count': 1314, u'_id': u'Merkaartor 0.12'}\n",
      "{u'count': 399, u'_id': u'Merkaartor 0.13'}\n",
      "{u'count': 172, u'_id': u'YahooApplet 1.0'}\n",
      "{u'count': 97, u'_id': u'Potlatch 0.10f'}\n",
      "{u'count': 97, u'_id': u'Potlatch alpha'}\n",
      "{u'count': 95, u'_id': u'Potlatch 0.8a'}\n",
      "{u'count': 51, u'_id': u'polyshp2osm-multipoly'}\n",
      "{u'count': 28, u'_id': u'Potlatch 0.9c'}\n",
      "{u'count': 26, u'_id': u'Potlatch 0.10e'}\n",
      "{u'count': 23, u'_id': u'Potlatch 0.10b'}\n",
      "{u'count': 11, u'_id': u'Potlatch 0.8b'}\n",
      "{u'count': 7, u'_id': u'Potlatch 0.9'}\n",
      "{u'count': 7, u'_id': u'Potlatch 0.8c'}\n",
      "{u'count': 6, u'_id': u'Potlatch 0.7b'}\n",
      "{u'count': 4, u'_id': u'Potlatch 0.9a'}\n",
      "{u'count': 3, u'_id': u'Potlatch 0.9b'}\n",
      "{u'count': 3, u'_id': u'Potlatch 0.10'}\n",
      "{u'count': 2, u'_id': u'Potlatch 0.5d'}\n",
      "{u'count': 2, u'_id': u'Potlatch 0.10d'}\n",
      "{u'count': 1, u'_id': u'Potlatch 0.8'}\n",
      "{u'count': 1, u'_id': u'xybot'}\n",
      "{u'count': 1, u'_id': u'OSM Fixer'}\n",
      "{u'count': 1, u'_id': u'ailatix'}\n",
      "{u'count': 1, u'_id': u'Potlatch 0.7'}\n"
     ]
    }
   ],
   "source": [
    "groups_by_creator = collection.aggregate([{'$group':{'_id':'$created_by', 'count':{'$sum':1}}},{'$sort':{'count':-1}}])\n",
    "for item in groups_by_creator:\n",
    "    print item"
   ]
  },
  {
   "cell_type": "markdown",
   "metadata": {},
   "source": [
    "Distinct streets present in our data, along with the count of how many unique of them there are:"
   ]
  },
  {
   "cell_type": "code",
   "execution_count": 24,
   "metadata": {
    "collapsed": false
   },
   "outputs": [
    {
     "name": "stdout",
     "output_type": "stream",
     "text": [
      "[u'W 26 Mile Road', u'Rockwood Street', u'E 12 Mile Road', u'Shimmons Road', u'Crooks Road', u'Rochester Road', u'E 15 Mile Road', u'E 9 Mile Road', u'Grove Street', u'Belleville Road', u'Sashabaw Road', u'E. Nevada Street', u'Ryan Road', u'Town Center Drive', u'Ouellette Avenue', u'S Grand Avenue', u'S Grand River Avenue', u'Orchard Lake Road', u'Hill Road', u'Lauzon Road', u'Southfield Road', u'Baldwin Avenue', u'W Warren Avenue', u'Fisher Road', u'Michigan Avenue', u'Fort Street', u'E Commerce Road', u'West Michigan Avenue', u'Dennison Street', u'Orchard Hill Place', u'W Maple Road', u'Livernois Road', u'Coolidge Road', u'E Maple Road', u'John R Road', u'W Long Lake Road', u'W Big Beaver Road', u'E Big Beaver Road', u'E Long Lake Road', u'Corporate Drive', u'Broadway Street', u'Sterns Road', u'Victoria Court', u'Hall Road', u'5 Mile Road', u'E. Tienken Road', u'Main Street', u'Old Milford Farms Drive', u'Dougall Avenue', u'Marquette Court', u'Van Dyke Avenue', u'Auburn Road', u'Dequindre Road', u'E. Fisher Service Drive', u'Haggerty Road', u'Barrington Street', u'396 John R Road', u'Church Street', u'E Stanley Road', u'Fort Road', u'Essex Drive', u'Burroughs Street', u'Jerome Street', u'Sierra Drive', u'Woodward Avenue', u'E 11 Mile Road', u'Mandalay Avenue', u'W. Maple Road', u'Nicolet Place', u'Griswold Street', u'Brush Street', u'Alfred Street', u'Edmund Place', u'W Fort Street', u'E. Huron River Drive', u'Cottage Place', u'S Main Street', u'Little Mack Avenue', u'W Congress Street', u'Armstrong Court', u'Edison Avenue', u'Westchester Drive', u'W 7 Mile Road', u'Arsenal Road', u'Loop Road', u'N Ann Arbor Road', u'Telegraph Road', u'West Road', u'Wixom Road', u'Jackson Road', u'Jackson Avenue', u'Lyndon Street', u'W 12 Mile Road', u'S Haggerty Road', u'N. Main Street', u'Clark Road', u'21 Mile Road', u'Lincoln Avenue', u'E. Jefferson Avenue', u'Mabley Hill Road', u'Shoreline Drive', u'Stone Wood Court', u'N Maple Road', u'Vinewood Street', u'Bluebush Road', u'Consear Road', u'Grand River Avenue', u'N Squirrel Road', u'East Dunbar Road', u'Ford Road']\n",
      "Number of disctinct streets- 110\n"
     ]
    }
   ],
   "source": [
    "distinct_streets = collection.distinct('address.street')\n",
    "print distinct_streets\n",
    "print 'Number of disctinct streets-',len(distinct_streets)"
   ]
  },
  {
   "cell_type": "markdown",
   "metadata": {},
   "source": [
    "Count of streets by their types: "
   ]
  },
  {
   "cell_type": "code",
   "execution_count": 26,
   "metadata": {
    "collapsed": false
   },
   "outputs": [
    {
     "name": "stdout",
     "output_type": "stream",
     "text": [
      "{u'count': 32, u'_id': u'Drive'}\n",
      "{u'count': 105, u'_id': u'Road'}\n",
      "{u'count': 31, u'_id': u'Street'}\n",
      "{u'count': 22, u'_id': u'Avenue'}\n",
      "{u'count': 9, u'_id': u'Place'}\n",
      "{u'count': 4, u'_id': u'Court'}\n"
     ]
    }
   ],
   "source": [
    "count_by_street_types = collection.aggregate([{'$match':{'address.street_type':{'$exists':1}}},\n",
    "                                               {'$group':{'_id':'$address.street_type','count':{'$sum':1}}}])\n",
    "for item in count_by_street_types:\n",
    "    print item"
   ]
  },
  {
   "cell_type": "markdown",
   "metadata": {},
   "source": [
    "--------------------------------------------------------------------------------------------------------------------------------\n",
    "The distinct address streets present in our data which are 110 in number.\n",
    "Here we could have grouped the data by the type of streets i.e. Road, Street, Avenue, Court etc.\n",
    "It would have been easier if we had built our JSON data keeping this in mind.\n",
    "Otherwise it is difficult to group as it requires string parsing from a value inside a document.\n",
    "We would have got a better idea of street types if we were able to do that."
   ]
  },
  {
   "cell_type": "code",
   "execution_count": 22,
   "metadata": {
    "collapsed": false
   },
   "outputs": [
    {
     "name": "stdout",
     "output_type": "stream",
     "text": [
      "{u'type': u'way', u'_id': ObjectId('5809a597251362cbcb5fc50a'), u'lanes': [u'2', u'1']}\n",
      "{u'type': u'way', u'_id': ObjectId('5809a597251362cbcb5fc9c8'), u'lanes': [u'1', u'2']}\n",
      "{u'type': u'way', u'_id': ObjectId('5809a597251362cbcb5fcb1b'), u'lanes': [u'2', u'1']}\n",
      "{u'type': u'way', u'_id': ObjectId('5809a597251362cbcb5fcc95'), u'lanes': [u'2', u'1']}\n",
      "{u'type': u'way', u'_id': ObjectId('5809a597251362cbcb5fcc99'), u'lanes': [u'2', u'1']}\n",
      "{u'type': u'way', u'_id': ObjectId('5809a597251362cbcb5fce27'), u'lanes': [u'2', u'1']}\n",
      "{u'type': u'way', u'_id': ObjectId('5809a597251362cbcb5fcf05'), u'lanes': [u'2', u'1']}\n",
      "{u'type': u'way', u'_id': ObjectId('5809a597251362cbcb5fcff0'), u'lanes': [u'2', u'1']}\n",
      "{u'type': u'way', u'_id': ObjectId('5809a597251362cbcb5fd079'), u'lanes': [u'2', u'1']}\n",
      "{u'type': u'way', u'_id': ObjectId('5809a598251362cbcb5fd4c9'), u'lanes': [u'2', u'1']}\n",
      "{u'type': u'way', u'_id': ObjectId('5809a598251362cbcb5fd52c'), u'lanes': [u'2', u'1']}\n",
      "{u'type': u'way', u'_id': ObjectId('5809a59e251362cbcb607af0'), u'lanes': [u'2', u'1']}\n",
      "{u'type': u'way', u'_id': ObjectId('5809a5a1251362cbcb611b45'), u'lanes': [u'2', u'1']}\n"
     ]
    }
   ],
   "source": [
    "list_lanes = collection.aggregate([{'$match':{'lanes':{'$size':2}}},{'$project':{'type':1, 'lanes':1}}])\n",
    "for item in list_lanes:\n",
    "    print item"
   ]
  },
  {
   "cell_type": "code",
   "execution_count": 61,
   "metadata": {
    "collapsed": false
   },
   "outputs": [],
   "source": [
    "sample = collection.aggregate([{'$match':{'address.street':{'$exists':1}}},{'$limit':20}])"
   ]
  },
  {
   "cell_type": "code",
   "execution_count": 62,
   "metadata": {
    "collapsed": false
   },
   "outputs": [
    {
     "name": "stdout",
     "output_type": "stream",
     "text": [
      "{   u'_id': ObjectId('5809a498251362cbcb272d09'),\n",
      "    u'address': {   u'city': u'Washington',\n",
      "                    u'housenumber': u'4505',\n",
      "                    u'postcode': u'48094',\n",
      "                    u'street': u'W 26 Mile Road',\n",
      "                    u'street_type': u'Road'},\n",
      "    u'created': {   u'changeset': u'3356653',\n",
      "                    u'timestamp': u'2009-12-12T16:24:08Z',\n",
      "                    u'uid': u'147510',\n",
      "                    u'user': u'woodpeck_fixbot',\n",
      "                    u'version': u'5'},\n",
      "    u'id': u'61979974',\n",
      "    u'pos': [u'42.7128371', u'-83.0680961'],\n",
      "    u'type': u'node'}\n",
      "{   u'_id': ObjectId('5809a4c1251362cbcb308d94'),\n",
      "    u'address': {   u'housename': u'Jefferson Middle School',\n",
      "                    u'housenumber': u'27900',\n",
      "                    u'postcode': u'48081',\n",
      "                    u'street': u'Rockwood Street',\n",
      "                    u'street_type': u'Street'},\n",
      "    u'amenity': u'school',\n",
      "    u'created': {   u'changeset': u'14345137',\n",
      "                    u'timestamp': u'2012-12-20T16:17:18Z',\n",
      "                    u'uid': u'1151232',\n",
      "                    u'user': u'Chuck Simmons',\n",
      "                    u'version': u'2'},\n",
      "    u'ele': u'180',\n",
      "    u'gnis:county_id': u'099',\n",
      "    u'gnis:created': u'04/14/1980',\n",
      "    u'gnis:feature_id': u'634175',\n",
      "    u'gnis:state_id': u'26',\n",
      "    u'id': u'353952984',\n",
      "    u'name': u'Jefferson Middle School',\n",
      "    u'pos': [u'42.4975361', u'-82.9093618'],\n",
      "    u'type': u'node'}\n",
      "{   u'_id': ObjectId('5809a4c1251362cbcb308e59'),\n",
      "    u'address': {   u'housenumber': u'11701',\n",
      "                    u'postcode': u'48093',\n",
      "                    u'street': u'E 12 Mile Road',\n",
      "                    u'street_type': u'Road'},\n",
      "    u'amenity': u'school',\n",
      "    u'created': {   u'changeset': u'22914675',\n",
      "                    u'timestamp': u'2014-06-13T18:58:44Z',\n",
      "                    u'uid': u'1376118',\n",
      "                    u'user': u'ChrisZontine',\n",
      "                    u'version': u'4'},\n",
      "    u'ele': u'189',\n",
      "    u'gnis:county_id': u'099',\n",
      "    u'gnis:created': u'04/14/1980',\n",
      "    u'gnis:feature_id': u'634510',\n",
      "    u'gnis:state_id': u'26',\n",
      "    u'id': u'353960903',\n",
      "    u'name': u'Peace Lutheran School',\n",
      "    u'pos': [u'42.5079534', u'-83.0054357'],\n",
      "    u'type': u'node'}\n",
      "{   u'_id': ObjectId('5809a4c1251362cbcb309627'),\n",
      "    u'address': {   u'housename': u'Main Campus',\n",
      "                    u'housenumber': u'3075',\n",
      "                    u'postcode': u'48326',\n",
      "                    u'street': u'Shimmons Road',\n",
      "                    u'street_type': u'Road'},\n",
      "    u'amenity': u'school',\n",
      "    u'created': {   u'changeset': u'9369818',\n",
      "                    u'timestamp': u'2011-09-22T15:53:08Z',\n",
      "                    u'uid': u'526152',\n",
      "                    u'user': u'rymiller',\n",
      "                    u'version': u'2'},\n",
      "    u'ele': u'298',\n",
      "    u'gnis:county_id': u'125',\n",
      "    u'gnis:created': u'08/23/2007',\n",
      "    u'gnis:feature_id': u'2344244',\n",
      "    u'gnis:state_id': u'26',\n",
      "    u'id': u'354027516',\n",
      "    u'name': u'Oakland Christian School',\n",
      "    u'pos': [u'42.6890271', u'-83.2329359'],\n",
      "    u'type': u'node'}\n",
      "{   u'_id': ObjectId('5809a4c4251362cbcb313608'),\n",
      "    u'address': {   u'city': u'Troy',\n",
      "                    u'country': u'US',\n",
      "                    u'housenumber': u'3149',\n",
      "                    u'postcode': u'48084',\n",
      "                    u'state': u'MI',\n",
      "                    u'street': u'Crooks Road',\n",
      "                    u'street_type': u'Road'},\n",
      "    u'amenity': u'restaurant',\n",
      "    u'created': {   u'changeset': u'2493171',\n",
      "                    u'timestamp': u'2009-09-15T15:40:05Z',\n",
      "                    u'uid': u'70696',\n",
      "                    u'user': u'xybot',\n",
      "                    u'version': u'4'},\n",
      "    u'cuisine': u'kebab',\n",
      "    u'id': u'462767645',\n",
      "    u'name': u'Kalamata Greek Cafe',\n",
      "    u'phone': u'+1 248 643 2600',\n",
      "    u'pos': [u'42.5638772', u'-83.1681529'],\n",
      "    u'type': u'node'}\n",
      "{   u'_id': ObjectId('5809a4c4251362cbcb313876'),\n",
      "    u'address': {   u'city': u'Troy',\n",
      "                    u'country': u'US',\n",
      "                    u'housenumber': u'3119',\n",
      "                    u'postcode': u'48084',\n",
      "                    u'state': u'MI',\n",
      "                    u'street': u'Crooks Road',\n",
      "                    u'street_type': u'Road'},\n",
      "    u'amenity': u'restaurant',\n",
      "    u'created': {   u'changeset': u'5317951',\n",
      "                    u'timestamp': u'2010-07-26T03:03:18Z',\n",
      "                    u'uid': u'120468',\n",
      "                    u'user': u'Gone',\n",
      "                    u'version': u'4'},\n",
      "    u'id': u'471267722',\n",
      "    u'name': u'Noodles & Company',\n",
      "    u'phone': u'+1 248 243 8000',\n",
      "    u'pos': [u'42.5633127', u'-83.1680488'],\n",
      "    u'type': u'node'}\n",
      "{   u'_id': ObjectId('5809a4c4251362cbcb31427d'),\n",
      "    u'address': {   u'city': u'Troy',\n",
      "                    u'country': u'US',\n",
      "                    u'housenumber': u'3877',\n",
      "                    u'postcode': u'48083',\n",
      "                    u'state': u'MI',\n",
      "                    u'street': u'Rochester Road',\n",
      "                    u'street_type': u'Road'},\n",
      "    u'amenity': u'restaurant',\n",
      "    u'created': {   u'changeset': u'2493171',\n",
      "                    u'timestamp': u'2009-09-15T15:54:54Z',\n",
      "                    u'uid': u'70696',\n",
      "                    u'user': u'xybot',\n",
      "                    u'version': u'2'},\n",
      "    u'cuisine': u'indian',\n",
      "    u'id': u'489096465',\n",
      "    u'name': u'Royal Indian Cuisine',\n",
      "    u'phone': u'+1 248 743 0223',\n",
      "    u'pos': [u'42.5756782', u'-83.1290001'],\n",
      "    u'type': u'node'}\n",
      "{   u'_id': ObjectId('5809a4c5251362cbcb31928c'),\n",
      "    u'address': {   u'city': u'Sterling Heights',\n",
      "                    u'country': u'US',\n",
      "                    u'housenumber': u'2079',\n",
      "                    u'postcode': u'48310',\n",
      "                    u'state': u'MI',\n",
      "                    u'street': u'E 15 Mile Road',\n",
      "                    u'street_type': u'Road'},\n",
      "    u'amenity': u'restaurant',\n",
      "    u'created': {   u'changeset': u'6305376',\n",
      "                    u'timestamp': u'2010-11-06T19:24:22Z',\n",
      "                    u'uid': u'120468',\n",
      "                    u'user': u'Gone',\n",
      "                    u'version': u'4'},\n",
      "    u'cuisine': u'indian',\n",
      "    u'id': u'560635953',\n",
      "    u'name': u\"Megha's Athidhi Indian Cuisine\",\n",
      "    u'phone': u'586.446.9430',\n",
      "    u'pos': [u'42.549759', u'-83.0868063'],\n",
      "    u'type': u'node'}\n",
      "{   u'_id': ObjectId('5809a4c5251362cbcb31929f'),\n",
      "    u'address': {   u'city': u'Sterling Heights',\n",
      "                    u'country': u'US',\n",
      "                    u'housenumber': u'2149',\n",
      "                    u'postcode': u'48310',\n",
      "                    u'state': u'MI',\n",
      "                    u'street': u'E 15 Mile Road',\n",
      "                    u'street_type': u'Road'},\n",
      "    u'amenity': u'restaurant',\n",
      "    u'created': {   u'changeset': u'3261847',\n",
      "                    u'timestamp': u'2009-12-01T12:54:50Z',\n",
      "                    u'uid': u'70696',\n",
      "                    u'user': u'xybot',\n",
      "                    u'version': u'2'},\n",
      "    u'cuisine': u'thai',\n",
      "    u'id': u'560635952',\n",
      "    u'name': u'Bangkok Cuisine',\n",
      "    u'phone': u'+ 1 586 977 0130',\n",
      "    u'pos': [u'42.5499232', u'-83.0862049'],\n",
      "    u'type': u'node'}\n",
      "{   u'_id': ObjectId('5809a505251362cbcb4067e0'),\n",
      "    u'address': {   u'city': u'Ferndale',\n",
      "                    u'country': u'US',\n",
      "                    u'housenumber': u'261',\n",
      "                    u'postcode': u'48220',\n",
      "                    u'street': u'E 9 Mile Road',\n",
      "                    u'street_type': u'Road'},\n",
      "    u'amenity': u'theatre',\n",
      "    u'created': {   u'changeset': u'6269485',\n",
      "                    u'timestamp': u'2010-11-02T17:07:26Z',\n",
      "                    u'uid': u'366199',\n",
      "                    u'user': u'kc8nod',\n",
      "                    u'version': u'2'},\n",
      "    u'id': u'974817623',\n",
      "    u'name': u'Go Comedy',\n",
      "    u'pos': [u'42.4607923', u'-83.1315501'],\n",
      "    u'type': u'node',\n",
      "    u'website': u'http://gocomedy.net'}\n",
      "{   u'_id': ObjectId('5809a505251362cbcb4067e7'),\n",
      "    u'address': {   u'city': u'Ferndale',\n",
      "                    u'housenumber': u'305',\n",
      "                    u'postcode': u'48220',\n",
      "                    u'street': u'E 9 Mile Road',\n",
      "                    u'street_type': u'Road'},\n",
      "    u'amenity': u'courthouse',\n",
      "    u'created': {   u'changeset': u'6269485',\n",
      "                    u'timestamp': u'2010-11-02T17:07:26Z',\n",
      "                    u'uid': u'366199',\n",
      "                    u'user': u'kc8nod',\n",
      "                    u'version': u'2'},\n",
      "    u'id': u'974820043',\n",
      "    u'name': u'43rd District Court',\n",
      "    u'pos': [u'42.4607983', u'-83.1309788'],\n",
      "    u'type': u'node',\n",
      "    u'website': u'www.ferndalecourt.com'}\n",
      "{   u'_id': ObjectId('5809a505251362cbcb406f55'),\n",
      "    u'address': {   u'city': u'Detroit',\n",
      "                    u'country': u'US',\n",
      "                    u'housenumber': u'13200',\n",
      "                    u'postcode': u'48235',\n",
      "                    u'street': u'Grove Street',\n",
      "                    u'street_type': u'Street'},\n",
      "    u'created': {   u'changeset': u'6317838',\n",
      "                    u'timestamp': u'2010-11-08T04:00:44Z',\n",
      "                    u'uid': u'214311',\n",
      "                    u'user': u'David F',\n",
      "                    u'version': u'2'},\n",
      "    u'id': u'981888721',\n",
      "    u'leisure': u'pitch',\n",
      "    u'name': u'Metropolitan Racquet Club',\n",
      "    u'pos': [u'42.414774', u'-83.175781'],\n",
      "    u'sport': u'tennis; squash',\n",
      "    u'type': u'node'}\n",
      "{   u'_id': ObjectId('5809a506251362cbcb40b686'),\n",
      "    u'address': {   u'full': u'11001 Belleville Rd',\n",
      "                    u'housenumber': u'11001',\n",
      "                    u'street': u'Belleville Road',\n",
      "                    u'street_type': u'Road'},\n",
      "    u'amenity': u'fast_food',\n",
      "    u'created': {   u'changeset': u'9210664',\n",
      "                    u'timestamp': u'2011-09-04T17:07:23Z',\n",
      "                    u'uid': u'290680',\n",
      "                    u'user': u'wheelmap_visitor',\n",
      "                    u'version': u'2'},\n",
      "    u'cuisine': u'burger',\n",
      "    u'id': u'1188497892',\n",
      "    u'name': u\"Culver's\",\n",
      "    u'pos': [u'42.22207', u'-83.48412'],\n",
      "    u'type': u'node',\n",
      "    u'wheelchair': u'yes'}\n",
      "{   u'_id': ObjectId('5809a506251362cbcb40b6a1'),\n",
      "    u'address': {   u'full': u'6910 Sashabaw Rd',\n",
      "                    u'housenumber': u'6910',\n",
      "                    u'street': u'Sashabaw Road',\n",
      "                    u'street_type': u'Road'},\n",
      "    u'amenity': u'fast_food',\n",
      "    u'created': {   u'changeset': u'7469464',\n",
      "                    u'timestamp': u'2011-03-06T02:25:10Z',\n",
      "                    u'uid': u'4732',\n",
      "                    u'user': u'iandees',\n",
      "                    u'version': u'1'},\n",
      "    u'cuisine': u'burger',\n",
      "    u'id': u'1188501488',\n",
      "    u'name': u\"Culver's\",\n",
      "    u'pos': [u'42.739781', u'-83.378944'],\n",
      "    u'type': u'node'}\n",
      "{   u'_id': ObjectId('5809a506251362cbcb40c0e3'),\n",
      "    u'address': {   u'housenumber': u'7616',\n",
      "                    u'street': u'E. Nevada Street',\n",
      "                    u'street_type': u'Street'},\n",
      "    u'amenity': u'place_of_worship',\n",
      "    u'created': {   u'changeset': u'7568521',\n",
      "                    u'timestamp': u'2011-03-15T18:00:46Z',\n",
      "                    u'uid': u'422038',\n",
      "                    u'user': u'robgreenkc',\n",
      "                    u'version': u'1'},\n",
      "    u'id': u'1203351485',\n",
      "    u'name': u'Perfecting Church',\n",
      "    u'pos': [u'42.426561', u'-83.024615'],\n",
      "    u'type': u'node'}\n",
      "{   u'_id': ObjectId('5809a508251362cbcb41305e'),\n",
      "    u'address': {   u'housenumber': u'34075',\n",
      "                    u'postcode': u'48310',\n",
      "                    u'street': u'Ryan Road',\n",
      "                    u'street_type': u'Road'},\n",
      "    u'created': {   u'changeset': u'14593578',\n",
      "                    u'timestamp': u'2013-01-10T04:02:14Z',\n",
      "                    u'uid': u'316589',\n",
      "                    u'user': u'ggariepy',\n",
      "                    u'version': u'2'},\n",
      "    u'id': u'1314164721',\n",
      "    u'name': u'Eckert Greenhouse',\n",
      "    u'pos': [u'42.5432658', u'-83.0692194'],\n",
      "    u'shop': u'florist',\n",
      "    u'type': u'node',\n",
      "    u'website': u'eckertsgreenhouse.com'}\n",
      "{   u'_id': ObjectId('5809a50a251362cbcb4188f4'),\n",
      "    u'address': {   u'housenumber': u'300',\n",
      "                    u'postcode': u'48126',\n",
      "                    u'street': u'Town Center Drive',\n",
      "                    u'street_type': u'Drive'},\n",
      "    u'created': {   u'changeset': u'13852492',\n",
      "                    u'timestamp': u'2012-11-12T21:08:05Z',\n",
      "                    u'uid': u'153711',\n",
      "                    u'user': u'AaronAsAChimp',\n",
      "                    u'version': u'3'},\n",
      "    u'entrance': u'yes',\n",
      "    u'id': u'1330656217',\n",
      "    u'pos': [u'42.3204936', u'-83.2174431'],\n",
      "    u'type': u'node'}\n",
      "{   u'_id': ObjectId('5809a50a251362cbcb4188fc'),\n",
      "    u'address': {   u'housenumber': u'290',\n",
      "                    u'postcode': u'48126',\n",
      "                    u'street': u'Town Center Drive',\n",
      "                    u'street_type': u'Drive'},\n",
      "    u'created': {   u'changeset': u'13852492',\n",
      "                    u'timestamp': u'2012-11-12T21:08:05Z',\n",
      "                    u'uid': u'153711',\n",
      "                    u'user': u'AaronAsAChimp',\n",
      "                    u'version': u'3'},\n",
      "    u'entrance': u'yes',\n",
      "    u'id': u'1330656218',\n",
      "    u'pos': [u'42.3204728', u'-83.2182337'],\n",
      "    u'type': u'node'}\n",
      "{   u'_id': ObjectId('5809a50a251362cbcb4192f1'),\n",
      "    u'address': {   u'housename': u'Ouellette Towers',\n",
      "                    u'housenumber': u'737',\n",
      "                    u'street': u'Ouellette Avenue',\n",
      "                    u'street_type': u'Avenue'},\n",
      "    u'created': {   u'changeset': u'16401044',\n",
      "                    u'timestamp': u'2013-06-03T05:14:49Z',\n",
      "                    u'uid': u'84681',\n",
      "                    u'user': u'SK53',\n",
      "                    u'version': u'4'},\n",
      "    u'id': u'1391868038',\n",
      "    u'name': u\"L'atelier du Chocolat\",\n",
      "    u'pos': [u'42.3125229', u'-83.0361361'],\n",
      "    u'shop': u'confectionery',\n",
      "    u'type': u'node',\n",
      "    u'website': u'www.lduchocolat.com'}\n",
      "{   u'_id': ObjectId('5809a50c251362cbcb420b28'),\n",
      "    u'address': {   u'housenumber': u'130',\n",
      "                    u'postcode': u'48836',\n",
      "                    u'street': u'S Grand Avenue',\n",
      "                    u'street_type': u'Avenue'},\n",
      "    u'created': {   u'changeset': u'10342065',\n",
      "                    u'timestamp': u'2012-01-09T15:50:47Z',\n",
      "                    u'uid': u'582770',\n",
      "                    u'user': u'Mike Depa',\n",
      "                    u'version': u'1'},\n",
      "    u'id': u'1583810075',\n",
      "    u'name': u'Curtis Grocery',\n",
      "    u'pos': [u'42.6603563', u'-84.0737282'],\n",
      "    u'shop': u'supermarket',\n",
      "    u'type': u'node'}\n"
     ]
    }
   ],
   "source": [
    "for item in sample:\n",
    "    pp.pprint(item)"
   ]
  }
 ],
 "metadata": {
  "anaconda-cloud": {},
  "kernelspec": {
   "display_name": "Python [default]",
   "language": "python",
   "name": "python2"
  },
  "language_info": {
   "codemirror_mode": {
    "name": "ipython",
    "version": 2
   },
   "file_extension": ".py",
   "mimetype": "text/x-python",
   "name": "python",
   "nbconvert_exporter": "python",
   "pygments_lexer": "ipython2",
   "version": "2.7.12"
  }
 },
 "nbformat": 4,
 "nbformat_minor": 0
}
